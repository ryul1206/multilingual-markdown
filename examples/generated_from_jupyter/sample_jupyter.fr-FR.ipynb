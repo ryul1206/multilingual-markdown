{
  "cells": [
    {
      "attachments": {},
      "cell_type": "markdown",
      "metadata": {},
      "source": [
        "# Document exemple\n",
        "\n",
        "[English](sample_jupyter.en-US.ipynb),\n",
        "[Fran\u00e7ais](sample_jupyter.fr-FR.ipynb),\n",
        "[\ud55c\uad6d\uc5b4](sample_jupyter.ko-KR.ipynb),\n",
        "[\u65e5\u672c\u8a9e](sample_jupyter.ja-JP.ipynb)"
      ]
    },
    {
      "attachments": {},
      "cell_type": "markdown",
      "metadata": {},
      "source": [
        "1. [Heading 2 (1)\n](#heading-2-1\n)",
        "1. [Heading 2 (2)\n](#heading-2-2\n)"
      ]
    },
    {
      "cell_type": "code",
      "execution_count": 2,
      "metadata": {},
      "outputs": [
        {
          "name": "stdout",
          "output_type": "stream",
          "text": [
            "Hello World!\n"
          ]
        }
      ],
      "source": [
        "print(\"Hello World!\")"
      ]
    },
    {
      "attachments": {},
      "cell_type": "markdown",
      "metadata": {},
      "source": [
        "## Heading 2 (1)\n",
        "\n",
        "Dans Jupyter, les cellules de code ne peuvent pas \u00eatre \u00e9tiquet\u00e9es et sont toujours consid\u00e9r\u00e9es comme `common` par d\u00e9faut. Par cons\u00e9quent, les cellules de code s'appliquent \u00e0 toutes les langues.\n"
      ]
    },
    {
      "attachments": {},
      "cell_type": "markdown",
      "metadata": {},
      "source": [
        "## Heading 2 (2)\n",
        "\n",
        "Lors de la conversion de Jupyter, les nouvelles cellules de markdown fonctionnent et se convertissent toujours comme si elles commen\u00e7aient par `common`.\n",
        "Cependant, lors d'un contr\u00f4le de sant\u00e9, comme toutes les cellules de markdown sont concat\u00e9n\u00e9es et inspect\u00e9es, la derni\u00e8re balise de la cellule de markdown pr\u00e9c\u00e9dente est appliqu\u00e9e.\n"
      ]
    }
  ],
  "metadata": {
    "kernelspec": {
      "display_name": ".venv",
      "language": "python",
      "name": "python3"
    },
    "language_info": {
      "codemirror_mode": {
        "name": "ipython",
        "version": 3
      },
      "file_extension": ".py",
      "mimetype": "text/x-python",
      "name": "python",
      "nbconvert_exporter": "python",
      "pygments_lexer": "ipython3",
      "version": "3.9.13"
    }
  },
  "nbformat": 4,
  "nbformat_minor": 4
}