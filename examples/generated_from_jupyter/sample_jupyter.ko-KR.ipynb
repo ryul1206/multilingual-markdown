{
  "cells": [
    {
      "attachments": {},
      "cell_type": "markdown",
      "metadata": {},
      "source": [
        "# \uc608\uc81c \ubb38\uc11c\n",
        "\n",
        "[English](sample_jupyter.en-US.ipynb),\n",
        "[Fran\u00e7ais](sample_jupyter.fr-FR.ipynb),\n",
        "[\ud55c\uad6d\uc5b4](sample_jupyter.ko-KR.ipynb),\n",
        "[\u65e5\u672c\u8a9e](sample_jupyter.ja-JP.ipynb)"
      ]
    },
    {
      "attachments": {},
      "cell_type": "markdown",
      "metadata": {},
      "source": [
        "1. [Heading 2 (1)\n](#heading-2-1\n)",
        "1. [Heading 2 (2)\n](#heading-2-2\n)"
      ]
    },
    {
      "cell_type": "code",
      "execution_count": 2,
      "metadata": {},
      "outputs": [
        {
          "name": "stdout",
          "output_type": "stream",
          "text": [
            "Hello World!\n"
          ]
        }
      ],
      "source": [
        "print(\"Hello World!\")"
      ]
    },
    {
      "attachments": {},
      "cell_type": "markdown",
      "metadata": {},
      "source": [
        "## Heading 2 (1)\n",
        "\n",
        "\uc8fc\ud53c\ud130\uc758 \ucf54\ub4dc \uc140\uc5d0\ub294 \ud0dc\uadf8\ub97c \uba85\uc2dc\ud560 \uc218 \uc5c6\uace0 \ud56d\uc0c1 `common` \ud0dc\uadf8\ub85c \uac04\uc8fc\ub429\ub2c8\ub2e4. \ub530\ub77c\uc11c \ucf54\ub4dc \uc140\uc740 \ubaa8\ub4e0 \uc5b8\uc5b4\uc5d0 \uc801\uc6a9\ub429\ub2c8\ub2e4.\n"
      ]
    },
    {
      "attachments": {},
      "cell_type": "markdown",
      "metadata": {},
      "source": [
        "## Heading 2 (2)\n",
        "\n",
        "\uc8fc\ud53c\ud130\ub97c \ubcc0\ud658\ud560 \ub54c\uc5d0 \uc0c8\ub85c\uc6b4 \ub9c8\ud06c\ub2e4\uc6b4 \uc140\uc740 \ud56d\uc0c1 `common`\uc73c\ub85c \uc2dc\uc791\ub418\ub294 \uac83\ucc98\ub7fc \ub3d9\uc791\ud558\uba70 \ubcc0\ud658\ub429\ub2c8\ub2e4.\n",
        "\ud558\uc9c0\ub9cc, Health Check\uc5d0\uc11c\ub294 \ubaa8\ub4e0 \ub9c8\ud06c\ub2e4\uc6b4 \uc140\uc744 \uc774\uc5b4 \ubd99\uc5ec(concatenate) \uac80\uc0ac\ud558\uae30 \ub54c\ubb38\uc5d0, \uc9c1\uc804 \ub9c8\ud06c\ub2e4\uc6b4 \uc140\uc758 \ub9c8\uc9c0\ub9c9 \ud0dc\uadf8\uac00 \uc801\uc6a9\ub429\ub2c8\ub2e4.\n"
      ]
    }
  ],
  "metadata": {
    "kernelspec": {
      "display_name": ".venv",
      "language": "python",
      "name": "python3"
    },
    "language_info": {
      "codemirror_mode": {
        "name": "ipython",
        "version": 3
      },
      "file_extension": ".py",
      "mimetype": "text/x-python",
      "name": "python",
      "nbconvert_exporter": "python",
      "pygments_lexer": "ipython3",
      "version": "3.9.13"
    }
  },
  "nbformat": 4,
  "nbformat_minor": 4
}