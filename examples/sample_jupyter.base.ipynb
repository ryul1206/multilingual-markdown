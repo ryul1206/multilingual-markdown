{
  "cells": [
    {
      "attachments": {},
      "cell_type": "markdown",
      "metadata": {},
      "source": [
        "<!---------------------------->\n",
        "<!-- multilingual suffix: en-US, fr-FR, ko-KR, ja-JP -->\n",
        "<!---------------------------->\n",
        "<!-- [en-US] -->\n",
        "# Sample Document\n",
        "<!-- [ko-KR] -->\n",
        "# 예제 문서\n",
        "<!-- [fr-FR] -->\n",
        "# Document exemple\n",
        "<!-- [ja-JP] -->\n",
        "# サンプルドキュメント\n",
        "<!-- [common] -->\n",
        "\n",
        "[English](sample_jupyter.en-US.ipynb),\n",
        "[Français](sample_jupyter.fr-FR.ipynb),\n",
        "[한국어](sample_jupyter.ko-KR.ipynb),\n",
        "[日本語](sample_jupyter.ja-JP.ipynb)"
      ]
    },
    {
      "attachments": {},
      "cell_type": "markdown",
      "metadata": {},
      "source": [
        "<!-- [[ multilingual toc: level=2 ]] -->"
      ]
    },
    {
      "cell_type": "code",
      "execution_count": 2,
      "metadata": {},
      "outputs": [
        {
          "name": "stdout",
          "output_type": "stream",
          "text": [
            "Hello World!\n"
          ]
        }
      ],
      "source": [
        "print(\"Hello World!\")"
      ]
    },
    {
      "attachments": {},
      "cell_type": "markdown",
      "metadata": {},
      "source": [
        "## Heading 2 (1)\n",
        "\n",
        "<!-- [en-US] -->\n",
        "In Jupyter's code cells, you cannot specify tags, and they are always considered as `common` tags. Therefore, code cells apply to all languages.\n",
        "<!-- [ko-KR] -->\n",
        "주피터의 코드 셀에는 태그를 명시할 수 없고 항상 `common` 태그로 간주됩니다. 따라서 코드 셀은 모든 언어에 적용됩니다.\n",
        "<!-- [fr-FR] -->\n",
        "Dans Jupyter, les cellules de code ne peuvent pas être étiquetées et sont toujours considérées comme `common` par défaut. Par conséquent, les cellules de code s'appliquent à toutes les langues.\n",
        "<!-- [ja-JP] -->\n",
        "Jupyterでは、コードセルにタグを付けることはできず、常に`common`タグと見なされます。したがって、コードセルはすべての言語に適用されます。"
      ]
    },
    {
      "attachments": {},
      "cell_type": "markdown",
      "metadata": {},
      "source": [
        "## Heading 2 (2)\n",
        "\n",
        "<!-- [en-US] -->\n",
        "When converting Jupyter, new markdown cells always operate and convert as if they start with `common`.\n",
        "However, in a Health Check, because all markdown cells are concatenated and inspected, the last tag of the previous markdown cell is applied.\n",
        "<!-- [ko-KR] -->\n",
        "주피터를 변환할 때에 새로운 마크다운 셀은 항상 `common`으로 시작되는 것처럼 동작하며 변환됩니다.\n",
        "하지만, Health Check에서는 모든 마크다운 셀을 이어 붙여(concatenate) 검사하기 때문에, 직전 마크다운 셀의 마지막 태그가 적용됩니다.\n",
        "<!-- [fr-FR] -->\n",
        "Lors de la conversion de Jupyter, les nouvelles cellules de markdown fonctionnent et se convertissent toujours comme si elles commençaient par `common`.\n",
        "Cependant, lors d'un contrôle de santé, comme toutes les cellules de markdown sont concaténées et inspectées, la dernière balise de la cellule de markdown précédente est appliquée.\n",
        "<!-- [ja-JP] -->\n",
        "Jupyterを変換する際、新しいマークダウンセルは常に`common`で始まるかのように動作し、変換されます。\n",
        "しかし、ヘルスチェックでは、すべてのマークダウンセルが連結されて検査されるため、直前のマークダウンセルの最後のタグが適用されます。"
      ]
    }
  ],
  "metadata": {
    "kernelspec": {
      "display_name": ".venv",
      "language": "python",
      "name": "python3"
    },
    "language_info": {
      "codemirror_mode": {
        "name": "ipython",
        "version": 3
      },
      "file_extension": ".py",
      "mimetype": "text/x-python",
      "name": "python",
      "nbconvert_exporter": "python",
      "pygments_lexer": "ipython3",
      "version": "3.9.13"
    }
  },
  "nbformat": 4,
  "nbformat_minor": 4
}
