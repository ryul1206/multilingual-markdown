{
  "cells": [
    {
      "attachments": {},
      "cell_type": "markdown",
      "metadata": {},
      "source": [
        "# Sample Document\n",
        "\n",
        "[English](sample_jupyter.en-US.ipynb),\n",
        "[Fran\u00e7ais](sample_jupyter.fr-FR.ipynb),\n",
        "[\ud55c\uad6d\uc5b4](sample_jupyter.ko-KR.ipynb),\n",
        "[\u65e5\u672c\u8a9e](sample_jupyter.ja-JP.ipynb)"
      ]
    },
    {
      "attachments": {},
      "cell_type": "markdown",
      "metadata": {},
      "source": [
        "1. [Heading 2 (1)\n](#heading-2-1\n)",
        "1. [Heading 2 (2)\n](#heading-2-2\n)"
      ]
    },
    {
      "cell_type": "code",
      "execution_count": 2,
      "metadata": {},
      "outputs": [
        {
          "name": "stdout",
          "output_type": "stream",
          "text": [
            "Hello World!\n"
          ]
        }
      ],
      "source": [
        "print(\"Hello World!\")"
      ]
    },
    {
      "attachments": {},
      "cell_type": "markdown",
      "metadata": {},
      "source": [
        "## Heading 2 (1)\n",
        "\n",
        "In Jupyter's code cells, you cannot specify tags, and they are always considered as `common` tags. Therefore, code cells apply to all languages.\n"
      ]
    },
    {
      "attachments": {},
      "cell_type": "markdown",
      "metadata": {},
      "source": [
        "## Heading 2 (2)\n",
        "\n",
        "When converting Jupyter, new markdown cells always operate and convert as if they start with `common`.\n",
        "However, in a Health Check, because all markdown cells are concatenated and inspected, the last tag of the previous markdown cell is applied.\n"
      ]
    }
  ],
  "metadata": {
    "kernelspec": {
      "display_name": ".venv",
      "language": "python",
      "name": "python3"
    },
    "language_info": {
      "codemirror_mode": {
        "name": "ipython",
        "version": 3
      },
      "file_extension": ".py",
      "mimetype": "text/x-python",
      "name": "python",
      "nbconvert_exporter": "python",
      "pygments_lexer": "ipython3",
      "version": "3.9.13"
    }
  },
  "nbformat": 4,
  "nbformat_minor": 4
}