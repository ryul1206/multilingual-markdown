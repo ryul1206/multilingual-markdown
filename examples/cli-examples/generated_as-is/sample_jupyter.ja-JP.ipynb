{
  "cells": [
    {
      "attachments": {},
      "cell_type": "markdown",
      "metadata": {},
      "source": [
        "# \u30b5\u30f3\u30d7\u30eb\u30c9\u30ad\u30e5\u30e1\u30f3\u30c8\n",
        "\n",
        "[English](sample_jupyter.en-US.ipynb),\n",
        "[Fran\u00e7ais](sample_jupyter.fr-FR.ipynb),\n",
        "[\ud55c\uad6d\uc5b4](sample_jupyter.ko-KR.ipynb),\n",
        "[\u65e5\u672c\u8a9e](sample_jupyter.ja-JP.ipynb)"
      ]
    },
    {
      "attachments": {},
      "cell_type": "markdown",
      "metadata": {},
      "source": [
        "1. [Heading 2 (1)\n](#heading-2-1\n)",
        "1. [Heading 2 (2)\n](#heading-2-2\n)"
      ]
    },
    {
      "cell_type": "code",
      "execution_count": 2,
      "metadata": {},
      "outputs": [
        {
          "name": "stdout",
          "output_type": "stream",
          "text": [
            "Hello World!\n"
          ]
        }
      ],
      "source": [
        "print(\"Hello World!\")"
      ]
    },
    {
      "attachments": {},
      "cell_type": "markdown",
      "metadata": {},
      "source": [
        "## Heading 2 (1)\n",
        "\n",
        "Jupyter\u3067\u306f\u3001\u30b3\u30fc\u30c9\u30bb\u30eb\u306b\u30bf\u30b0\u3092\u4ed8\u3051\u308b\u3053\u3068\u306f\u3067\u304d\u305a\u3001\u5e38\u306b`common`\u30bf\u30b0\u3068\u898b\u306a\u3055\u308c\u307e\u3059\u3002\u3057\u305f\u304c\u3063\u3066\u3001\u30b3\u30fc\u30c9\u30bb\u30eb\u306f\u3059\u3079\u3066\u306e\u8a00\u8a9e\u306b\u9069\u7528\u3055\u308c\u307e\u3059\u3002"
      ]
    },
    {
      "attachments": {},
      "cell_type": "markdown",
      "metadata": {},
      "source": [
        "## Heading 2 (2)\n",
        "\n",
        "Jupyter\u3092\u5909\u63db\u3059\u308b\u969b\u3001\u65b0\u3057\u3044\u30de\u30fc\u30af\u30c0\u30a6\u30f3\u30bb\u30eb\u306f\u5e38\u306b`common`\u3067\u59cb\u307e\u308b\u304b\u306e\u3088\u3046\u306b\u52d5\u4f5c\u3057\u3001\u5909\u63db\u3055\u308c\u307e\u3059\u3002\n",
        "\u3057\u304b\u3057\u3001\u30d8\u30eb\u30b9\u30c1\u30a7\u30c3\u30af\u3067\u306f\u3001\u3059\u3079\u3066\u306e\u30de\u30fc\u30af\u30c0\u30a6\u30f3\u30bb\u30eb\u304c\u9023\u7d50\u3055\u308c\u3066\u691c\u67fb\u3055\u308c\u308b\u305f\u3081\u3001\u76f4\u524d\u306e\u30de\u30fc\u30af\u30c0\u30a6\u30f3\u30bb\u30eb\u306e\u6700\u5f8c\u306e\u30bf\u30b0\u304c\u9069\u7528\u3055\u308c\u307e\u3059\u3002"
      ]
    }
  ],
  "metadata": {
    "kernelspec": {
      "display_name": ".venv",
      "language": "python",
      "name": "python3"
    },
    "language_info": {
      "codemirror_mode": {
        "name": "ipython",
        "version": 3
      },
      "file_extension": ".py",
      "mimetype": "text/x-python",
      "name": "python",
      "nbconvert_exporter": "python",
      "pygments_lexer": "ipython3",
      "version": "3.9.13"
    }
  },
  "nbformat": 4,
  "nbformat_minor": 4
}