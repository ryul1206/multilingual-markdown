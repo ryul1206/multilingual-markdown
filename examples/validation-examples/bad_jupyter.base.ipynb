{
  "cells": [
    {
      "attachments": {},
      "cell_type": "markdown",
      "metadata": {},
      "source": [
        "<!---------------------------->\n",
        "<!-- multilingual suffix: en-US, fr-FR, ko-KR, ja-JP -->\n",
        "<!---------------------------->\n",
        "<!-- [en-US] -->\n",
        "# Sample Document\n",
        "<!-- [ko-KR] -->\n",
        "# 예제 문서\n",
        "<!-- [fr-FR] -->\n",
        "# Document exemple\n",
        "<!-- [ja-JP] -->\n",
        "# サンプルドキュメント\n",
        "<!-- [common] -->\n"
      ]
    },
    {
      "attachments": {},
      "cell_type": "markdown",
      "metadata": {},
      "source": [
        "<!-- [[ multilingual toc: level=2 ]] -->"
      ]
    },
    {
      "cell_type": "code",
      "execution_count": 2,
      "metadata": {},
      "outputs": [
        {
          "name": "stdout",
          "output_type": "stream",
          "text": [
            "Hello World!\n"
          ]
        }
      ],
      "source": [
        "print(\"Hello World!\")"
      ]
    },
    {
      "attachments": {},
      "cell_type": "markdown",
      "metadata": {},
      "source": [
        "## Heading 2 (1)\n",
        "\n",
        "<!-- [English] -->\n",
        "This part is wrong.\n",
        "\n",
        "<!-- [en-US] -->\n",
        "In Jupyter's code cells, you cannot specify tags, and they are always considered as `common` tags. Therefore, code cells apply to all languages.\n",
        "<!-- [ko-KR] -->\n",
        "주피터의 코드 셀에는 태그를 명시할 수 없고 항상 `common` 태그로 간주됩니다. 따라서 코드 셀은 모든 언어에 적용됩니다.\n",
        "<!-- [fr-FR] -->\n",
        "Dans Jupyter, les cellules de code ne peuvent pas être étiquetées et sont toujours considérées comme `common` par défaut. Par conséquent, les cellules de code s'appliquent à toutes les langues.\n",
        "<!-- [ja-JP] -->\n",
        "Jupyterでは、コードセルにタグを付けることはできず、常に`common`タグと見なされます。したがって、コードセルはすべての言語に適用されます。"
      ]
    }
  ],
  "metadata": {
    "kernelspec": {
      "display_name": ".venv",
      "language": "python",
      "name": "python3"
    },
    "language_info": {
      "codemirror_mode": {
        "name": "ipython",
        "version": 3
      },
      "file_extension": ".py",
      "mimetype": "text/x-python",
      "name": "python",
      "nbconvert_exporter": "python",
      "pygments_lexer": "ipython3",
      "version": "3.9.13"
    }
  },
  "nbformat": 4,
  "nbformat_minor": 4
}
